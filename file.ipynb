{
 "cells": [
  {
   "cell_type": "code",
   "execution_count": 13,
   "metadata": {
    "scrolled": true
   },
   "outputs": [
    {
     "name": "stdout",
     "output_type": "stream",
     "text": [
      "3.1415926535\n",
      "  8979323846\n",
      "  2643383279\n"
     ]
    }
   ],
   "source": [
    "\n",
    "with open(r\"C:\\Users\\24859\\Anaconda3\\pkgs\\pywavelets-0.5.2-py36hc649158_0\\Lib\\site-packages\\pywt\\data\\__pycache__\\int.txt\")as file_object:\n",
    "    contents = file_object.read()\n",
    "    print(contents)"
   ]
  },
  {
   "cell_type": "code",
   "execution_count": 14,
   "metadata": {
    "scrolled": true
   },
   "outputs": [
    {
     "name": "stdout",
     "output_type": "stream",
     "text": [
      "3.1415926535\n",
      "\n",
      "  8979323846\n",
      "\n",
      "  2643383279\n"
     ]
    }
   ],
   "source": [
    "with open(r\"C:\\Users\\24859\\Anaconda3\\pkgs\\pywavelets-0.5.2-py36hc649158_0\\Lib\\site-packages\\pywt\\data\\__pycache__\\int.txt\")as f_object:\n",
    "    for line in f_object:\n",
    "        print(line)"
   ]
  },
  {
   "cell_type": "code",
   "execution_count": 15,
   "metadata": {},
   "outputs": [
    {
     "name": "stdout",
     "output_type": "stream",
     "text": [
      "3.1415926535\n",
      "  8979323846\n",
      "  2643383279\n"
     ]
    }
   ],
   "source": [
    "# 方法readlines() 从文件中读取每一行，并将其存储在一个列表中\n",
    "with open(r\"C:\\Users\\24859\\Anaconda3\\pkgs\\pywavelets-0.5.2-py36hc649158_0\\Lib\\site-packages\\pywt\\data\\__pycache__\\int.txt\")as f_object:\n",
    "    lines = f_object.readlines()\n",
    "    \n",
    "for line in lines:\n",
    "    print(line.rstrip())"
   ]
  },
  {
   "cell_type": "code",
   "execution_count": 16,
   "metadata": {
    "collapsed": true
   },
   "outputs": [],
   "source": [
    "filename = 'programming.txt'\n",
    "with open(filename,'w') as file:\n",
    "    file.write(\"I love python.\\n\")\n",
    "    file.write('Someone is watching me.\\n')"
   ]
  },
  {
   "cell_type": "code",
   "execution_count": 17,
   "metadata": {
    "collapsed": true
   },
   "outputs": [],
   "source": [
    "with open(filename,'a') as file:\n",
    "    file.write('Mistery, sir.')"
   ]
  },
  {
   "cell_type": "code",
   "execution_count": 18,
   "metadata": {},
   "outputs": [
    {
     "name": "stdout",
     "output_type": "stream",
     "text": [
      "I love python.\n",
      "Someone is watching me.\n",
      "Mistery, sir.\n"
     ]
    }
   ],
   "source": [
    "with open(filename,'r') as file:\n",
    "    lines = file.readlines()\n",
    "    for line in lines:\n",
    "        print(line.rstrip())"
   ]
  },
  {
   "cell_type": "code",
   "execution_count": null,
   "metadata": {
    "collapsed": true
   },
   "outputs": [],
   "source": []
  }
 ],
 "metadata": {
  "kernelspec": {
   "display_name": "Python 3",
   "language": "python",
   "name": "python3"
  },
  "language_info": {
   "codemirror_mode": {
    "name": "ipython",
    "version": 3
   },
   "file_extension": ".py",
   "mimetype": "text/x-python",
   "name": "python",
   "nbconvert_exporter": "python",
   "pygments_lexer": "ipython3",
   "version": "3.6.3"
  }
 },
 "nbformat": 4,
 "nbformat_minor": 2
}
