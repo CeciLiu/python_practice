{
 "cells": [
  {
   "cell_type": "code",
   "execution_count": 6,
   "metadata": {
    "collapsed": true
   },
   "outputs": [],
   "source": [
    "def get_present_value(future_value,compounding_frequency,discount_rate):\n",
    "    pv = future_value/(1+discount_rate)**compounding_frequency\n",
    "    return pv"
   ]
  },
  {
   "cell_type": "code",
   "execution_count": 7,
   "metadata": {},
   "outputs": [],
   "source": [
    "pv1 = get_present_value(10000,5,0.06)"
   ]
  },
  {
   "cell_type": "code",
   "execution_count": 8,
   "metadata": {},
   "outputs": [
    {
     "data": {
      "text/plain": [
       "7472.58172866057"
      ]
     },
     "execution_count": 8,
     "metadata": {},
     "output_type": "execute_result"
    }
   ],
   "source": [
    "pv1"
   ]
  },
  {
   "cell_type": "code",
   "execution_count": 43,
   "metadata": {},
   "outputs": [],
   "source": [
    "def count(string):\n",
    "    string = string.lower()\n",
    "    l = len(string)\n",
    "    char = []\n",
    "    for i in range(0,l):\n",
    "        if not string[i] in char:\n",
    "            char.append(string[i])\n",
    "    count_char = char[:]\n",
    "    m = len(char)\n",
    "    for j in range(0,m):\n",
    "        count_char[j] = 0\n",
    "    for i in range(0,l):\n",
    "        count_char[char.index(string[i])] += 1 \n",
    "    for j in range(0,m):\n",
    "        print(\"The number of \"+char[j]+\" is \"+str(count_char[j])+\".\")"
   ]
  },
  {
   "cell_type": "code",
   "execution_count": 44,
   "metadata": {},
   "outputs": [
    {
     "name": "stdout",
     "output_type": "stream",
     "text": [
      "The number of h is 7.\n",
      "The number of e is 1.\n",
      "The number of l is 1.\n",
      "The number of s is 5.\n",
      "The number of i is 7.\n",
      "The number of j is 1.\n",
      "The number of d is 2.\n",
      "The number of n is 1.\n",
      "The number of x is 1.\n",
      "The number of a is 2.\n"
     ]
    }
   ],
   "source": [
    "count(\"Helsisjihishdishidhsnxhiahia\")"
   ]
  },
  {
   "cell_type": "code",
   "execution_count": null,
   "metadata": {},
   "outputs": [],
   "source": [
    "s = input(\"Count the number of characters in a string\")\n",
    "count(s)"
   ]
  },
  {
   "cell_type": "code",
   "execution_count": null,
   "metadata": {
    "collapsed": true
   },
   "outputs": [],
   "source": [
    "def max_divider(x,y):\n",
    "    if x>y:\n",
    "        smaller = y\n",
    "    else:\n",
    "        smaller = x\n",
    "    for i in range(1,smaller+1):\n",
    "        if((x%i==0)and(y%i==0)):\n",
    "            max_div = i\n",
    "    return(max_div)"
   ]
  },
  {
   "cell_type": "code",
   "execution_count": null,
   "metadata": {
    "collapsed": true
   },
   "outputs": [],
   "source": [
    "i = input(\"Number 1:\")\n",
    "j = input(\"Number 2:\")\n",
    "max_divisor = max_divider(i,j)\n",
    "max_divisor"
   ]
  },
  {
   "cell_type": "code",
   "execution_count": null,
   "metadata": {
    "collapsed": true
   },
   "outputs": [],
   "source": []
  }
 ],
 "metadata": {
  "kernelspec": {
   "display_name": "Python 3",
   "language": "python",
   "name": "python3"
  },
  "language_info": {
   "codemirror_mode": {
    "name": "ipython",
    "version": 3
   },
   "file_extension": ".py",
   "mimetype": "text/x-python",
   "name": "python",
   "nbconvert_exporter": "python",
   "pygments_lexer": "ipython3",
   "version": "3.6.3"
  }
 },
 "nbformat": 4,
 "nbformat_minor": 2
}
